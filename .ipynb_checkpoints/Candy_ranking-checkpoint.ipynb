{
 "cells": [
  {
   "cell_type": "code",
   "execution_count": null,
   "metadata": {
    "colab": {},
    "colab_type": "code",
    "id": "PSHiyWCk1e2d"
   },
   "outputs": [],
   "source": []
  },
  {
   "cell_type": "code",
   "execution_count": null,
   "metadata": {
    "colab": {},
    "colab_type": "code",
    "id": "8w5JW9Ve2LG0"
   },
   "outputs": [],
   "source": [
    "from google.colab import drive\n",
    "drive.mount('/content/drive')\n",
    "!ls \"/content/drive/My Drive\""
   ]
  },
  {
   "cell_type": "code",
   "execution_count": 23,
   "metadata": {
    "colab": {},
    "colab_type": "code",
    "executionInfo": {
     "elapsed": 1029,
     "status": "ok",
     "timestamp": 1593180810926,
     "user": {
      "displayName": "Jatin Dhawan",
      "photoUrl": "https://lh3.googleusercontent.com/a-/AOh14GhHIdm0QSyuNwAgSzBjb_fDYuT0_abMhNpPw1MjNN8=s64",
      "userId": "00631097267465249303"
     },
     "user_tz": -120
    },
    "id": "3p4Gav143-cY"
   },
   "outputs": [],
   "source": [
    "import numpy as np\n",
    "import pandas as pd\n",
    "import seaborn as sns\n",
    "import plotly.express as px\n",
    "import plotly.graph_objs as go\n",
    "import matplotlib.pyplot as plt\n",
    "from IPython.core.interactiveshell import InteractiveShell\n",
    "InteractiveShell.ast_node_interactivity = \"all\""
   ]
  },
  {
   "cell_type": "code",
   "execution_count": null,
   "metadata": {
    "colab": {},
    "colab_type": "code",
    "id": "VO3VXZXC20_M"
   },
   "outputs": [],
   "source": [
    "# read data with categoricals \n",
    "dataset = pd.read_csv('/content/drive/My Drive/Colab Notebooks/candy-data.csv')\n",
    "dataset.describe()\n",
    "print(\"-\"*60)\n",
    "dataset.info()"
   ]
  },
  {
   "cell_type": "code",
   "execution_count": 17,
   "metadata": {
    "colab": {
     "base_uri": "https://localhost:8080/",
     "height": 347
    },
    "colab_type": "code",
    "executionInfo": {
     "elapsed": 1327,
     "status": "ok",
     "timestamp": 1593179694176,
     "user": {
      "displayName": "Jatin Dhawan",
      "photoUrl": "https://lh3.googleusercontent.com/a-/AOh14GhHIdm0QSyuNwAgSzBjb_fDYuT0_abMhNpPw1MjNN8=s64",
      "userId": "00631097267465249303"
     },
     "user_tz": -120
    },
    "id": "tKJ6jmH32zcg",
    "outputId": "8f3e6ed3-ee2a-4ec8-93f5-485caf9145ff"
   },
   "outputs": [
    {
     "data": {
      "text/html": [
       "<div>\n",
       "<style scoped>\n",
       "    .dataframe tbody tr th:only-of-type {\n",
       "        vertical-align: middle;\n",
       "    }\n",
       "\n",
       "    .dataframe tbody tr th {\n",
       "        vertical-align: top;\n",
       "    }\n",
       "\n",
       "    .dataframe thead th {\n",
       "        text-align: right;\n",
       "    }\n",
       "</style>\n",
       "<table border=\"1\" class=\"dataframe\">\n",
       "  <thead>\n",
       "    <tr style=\"text-align: right;\">\n",
       "      <th></th>\n",
       "      <th>competitorname</th>\n",
       "      <th>chocolate</th>\n",
       "      <th>fruity</th>\n",
       "      <th>caramel</th>\n",
       "      <th>peanutyalmondy</th>\n",
       "      <th>nougat</th>\n",
       "      <th>crispedricewafer</th>\n",
       "      <th>hard</th>\n",
       "      <th>bar</th>\n",
       "      <th>pluribus</th>\n",
       "      <th>sugarpercent</th>\n",
       "      <th>pricepercent</th>\n",
       "      <th>winpercent</th>\n",
       "    </tr>\n",
       "  </thead>\n",
       "  <tbody>\n",
       "    <tr>\n",
       "      <th>42</th>\n",
       "      <td>Nestle Butterfinger</td>\n",
       "      <td>1</td>\n",
       "      <td>0</td>\n",
       "      <td>0</td>\n",
       "      <td>1</td>\n",
       "      <td>0</td>\n",
       "      <td>0</td>\n",
       "      <td>0</td>\n",
       "      <td>1</td>\n",
       "      <td>0</td>\n",
       "      <td>0.604</td>\n",
       "      <td>0.767</td>\n",
       "      <td>70.735641</td>\n",
       "    </tr>\n",
       "    <tr>\n",
       "      <th>32</th>\n",
       "      <td>Peanut butter M&amp;MÕs</td>\n",
       "      <td>1</td>\n",
       "      <td>0</td>\n",
       "      <td>0</td>\n",
       "      <td>1</td>\n",
       "      <td>0</td>\n",
       "      <td>0</td>\n",
       "      <td>0</td>\n",
       "      <td>0</td>\n",
       "      <td>1</td>\n",
       "      <td>0.825</td>\n",
       "      <td>0.651</td>\n",
       "      <td>71.465050</td>\n",
       "    </tr>\n",
       "    <tr>\n",
       "      <th>54</th>\n",
       "      <td>ReeseÕs stuffed with pieces</td>\n",
       "      <td>1</td>\n",
       "      <td>0</td>\n",
       "      <td>0</td>\n",
       "      <td>1</td>\n",
       "      <td>0</td>\n",
       "      <td>0</td>\n",
       "      <td>0</td>\n",
       "      <td>0</td>\n",
       "      <td>0</td>\n",
       "      <td>0.988</td>\n",
       "      <td>0.651</td>\n",
       "      <td>72.887901</td>\n",
       "    </tr>\n",
       "    <tr>\n",
       "      <th>36</th>\n",
       "      <td>Milky Way</td>\n",
       "      <td>1</td>\n",
       "      <td>0</td>\n",
       "      <td>1</td>\n",
       "      <td>0</td>\n",
       "      <td>1</td>\n",
       "      <td>0</td>\n",
       "      <td>0</td>\n",
       "      <td>1</td>\n",
       "      <td>0</td>\n",
       "      <td>0.604</td>\n",
       "      <td>0.651</td>\n",
       "      <td>73.099556</td>\n",
       "    </tr>\n",
       "    <tr>\n",
       "      <th>53</th>\n",
       "      <td>ReeseÕs pieces</td>\n",
       "      <td>1</td>\n",
       "      <td>0</td>\n",
       "      <td>0</td>\n",
       "      <td>1</td>\n",
       "      <td>0</td>\n",
       "      <td>0</td>\n",
       "      <td>0</td>\n",
       "      <td>0</td>\n",
       "      <td>1</td>\n",
       "      <td>0.406</td>\n",
       "      <td>0.651</td>\n",
       "      <td>73.434990</td>\n",
       "    </tr>\n",
       "    <tr>\n",
       "      <th>64</th>\n",
       "      <td>Snickers</td>\n",
       "      <td>1</td>\n",
       "      <td>0</td>\n",
       "      <td>1</td>\n",
       "      <td>1</td>\n",
       "      <td>1</td>\n",
       "      <td>0</td>\n",
       "      <td>0</td>\n",
       "      <td>1</td>\n",
       "      <td>0</td>\n",
       "      <td>0.546</td>\n",
       "      <td>0.651</td>\n",
       "      <td>76.673782</td>\n",
       "    </tr>\n",
       "    <tr>\n",
       "      <th>28</th>\n",
       "      <td>Kit Kat</td>\n",
       "      <td>1</td>\n",
       "      <td>0</td>\n",
       "      <td>0</td>\n",
       "      <td>0</td>\n",
       "      <td>0</td>\n",
       "      <td>1</td>\n",
       "      <td>0</td>\n",
       "      <td>1</td>\n",
       "      <td>0</td>\n",
       "      <td>0.313</td>\n",
       "      <td>0.511</td>\n",
       "      <td>76.768600</td>\n",
       "    </tr>\n",
       "    <tr>\n",
       "      <th>79</th>\n",
       "      <td>Twix</td>\n",
       "      <td>1</td>\n",
       "      <td>0</td>\n",
       "      <td>1</td>\n",
       "      <td>0</td>\n",
       "      <td>0</td>\n",
       "      <td>1</td>\n",
       "      <td>0</td>\n",
       "      <td>1</td>\n",
       "      <td>0</td>\n",
       "      <td>0.546</td>\n",
       "      <td>0.906</td>\n",
       "      <td>81.642914</td>\n",
       "    </tr>\n",
       "    <tr>\n",
       "      <th>51</th>\n",
       "      <td>ReeseÕs Miniatures</td>\n",
       "      <td>1</td>\n",
       "      <td>0</td>\n",
       "      <td>0</td>\n",
       "      <td>1</td>\n",
       "      <td>0</td>\n",
       "      <td>0</td>\n",
       "      <td>0</td>\n",
       "      <td>0</td>\n",
       "      <td>0</td>\n",
       "      <td>0.034</td>\n",
       "      <td>0.279</td>\n",
       "      <td>81.866257</td>\n",
       "    </tr>\n",
       "    <tr>\n",
       "      <th>52</th>\n",
       "      <td>ReeseÕs Peanut Butter cup</td>\n",
       "      <td>1</td>\n",
       "      <td>0</td>\n",
       "      <td>0</td>\n",
       "      <td>1</td>\n",
       "      <td>0</td>\n",
       "      <td>0</td>\n",
       "      <td>0</td>\n",
       "      <td>0</td>\n",
       "      <td>0</td>\n",
       "      <td>0.720</td>\n",
       "      <td>0.651</td>\n",
       "      <td>84.180290</td>\n",
       "    </tr>\n",
       "  </tbody>\n",
       "</table>\n",
       "</div>"
      ],
      "text/plain": [
       "                 competitorname  chocolate  ...  pricepercent  winpercent\n",
       "42          Nestle Butterfinger          1  ...         0.767   70.735641\n",
       "32          Peanut butter M&MÕs          1  ...         0.651   71.465050\n",
       "54  ReeseÕs stuffed with pieces          1  ...         0.651   72.887901\n",
       "36                    Milky Way          1  ...         0.651   73.099556\n",
       "53               ReeseÕs pieces          1  ...         0.651   73.434990\n",
       "64                     Snickers          1  ...         0.651   76.673782\n",
       "28                      Kit Kat          1  ...         0.511   76.768600\n",
       "79                         Twix          1  ...         0.906   81.642914\n",
       "51           ReeseÕs Miniatures          1  ...         0.279   81.866257\n",
       "52    ReeseÕs Peanut Butter cup          1  ...         0.651   84.180290\n",
       "\n",
       "[10 rows x 13 columns]"
      ]
     },
     "execution_count": 17,
     "metadata": {
      "tags": []
     },
     "output_type": "execute_result"
    }
   ],
   "source": [
    "#train_df.describe()\n",
    "# dataset.loc[dataset['winpercent'].idxmax()]\n",
    "dataset.sort_values(by=['winpercent']).tail(10)"
   ]
  },
  {
   "cell_type": "code",
   "execution_count": 7,
   "metadata": {
    "colab": {
     "base_uri": "https://localhost:8080/",
     "height": 470
    },
    "colab_type": "code",
    "executionInfo": {
     "elapsed": 2289,
     "status": "ok",
     "timestamp": 1593174955247,
     "user": {
      "displayName": "Jatin Dhawan",
      "photoUrl": "https://lh3.googleusercontent.com/a-/AOh14GhHIdm0QSyuNwAgSzBjb_fDYuT0_abMhNpPw1MjNN8=s64",
      "userId": "00631097267465249303"
     },
     "user_tz": -120
    },
    "id": "-rtVyCn5oEvw",
    "outputId": "9c5e9213-3bb8-4b59-ecfc-b41c78f3324a"
   },
   "outputs": [
    {
     "data": {
      "text/plain": [
       "<Figure size 864x432 with 0 Axes>"
      ]
     },
     "execution_count": 7,
     "metadata": {
      "tags": []
     },
     "output_type": "execute_result"
    },
    {
     "data": {
      "text/plain": [
       "<matplotlib.axes._subplots.AxesSubplot at 0x7f92ca6f5f98>"
      ]
     },
     "execution_count": 7,
     "metadata": {
      "tags": []
     },
     "output_type": "execute_result"
    },
    {
     "data": {
      "image/png": "[encoded data removed]",
      "text/plain": [
       "<Figure size 864x432 with 2 Axes>"
      ]
     },
     "metadata": {
      "needs_background": "light",
      "tags": []
     },
     "output_type": "display_data"
    }
   ],
   "source": [
    "# Exploratory Data Analysis\n",
    "\n",
    "df_cor = dataset.corr()\n",
    "\n",
    "plt.figure(figsize=(12,6))\n",
    "sns.heatmap(df_cor,cmap='YlGn',annot=True)"
   ]
  },
  {
   "cell_type": "markdown",
   "metadata": {
    "colab_type": "text",
    "id": "xTVl2Q8le5_K"
   },
   "source": [
    "### Univariate analysis\n",
    "\n",
    "\n",
    "*   Distribution plot gives the density of distributions from point to point in general terms.\n",
    "*   List item\n",
    "\n"
   ]
  },
  {
   "cell_type": "code",
   "execution_count": null,
   "metadata": {
    "colab": {},
    "colab_type": "code",
    "id": "vWxjle_wOSBA"
   },
   "outputs": [],
   "source": [
    "function that will give n best values\n",
    "\n",
    "def top5(n:int,winpercent:[]):\n",
    "  \n"
   ]
  },
  {
   "cell_type": "code",
   "execution_count": 68,
   "metadata": {
    "colab": {},
    "colab_type": "code",
    "executionInfo": {
     "elapsed": 834,
     "status": "ok",
     "timestamp": 1593183725489,
     "user": {
      "displayName": "Jatin Dhawan",
      "photoUrl": "https://lh3.googleusercontent.com/a-/AOh14GhHIdm0QSyuNwAgSzBjb_fDYuT0_abMhNpPw1MjNN8=s64",
      "userId": "00631097267465249303"
     },
     "user_tz": -120
    },
    "id": "nDA_3bF3p1z6"
   },
   "outputs": [],
   "source": [
    "# Define bar properties\n",
    "bar_heights = dataset.sort_values(by=['winpercent']).winpercent\n",
    "bins = [0, 70, 100]\n",
    "labels = ['Rest', 'Top5']\n",
    "\n",
    "colors = {'Rest': 'lightgreen',\n",
    "          'Top5': 'red'}\n",
    "\n",
    "# Build dataframe\n",
    "df = pd.DataFrame({'y': bar_heights,\n",
    "                   'x': dataset.sort_values(by=['winpercent']).competitorname,\n",
    "                   'label': pd.cut(bar_heights, bins=bins, labels=labels)})\n",
    "bars = []\n",
    "for label, label_df in df.groupby('label'):\n",
    "    bars.append(go.Bar(x=label_df.x,\n",
    "                       y=label_df.y,\n",
    "                       name=label,\n",
    "                       marker={'color': colors[label]}))"
   ]
  },
  {
   "cell_type": "code",
   "execution_count": 69,
   "metadata": {
    "colab": {
     "base_uri": "https://localhost:8080/",
     "height": 542
    },
    "colab_type": "code",
    "executionInfo": {
     "elapsed": 851,
     "status": "ok",
     "timestamp": 1593183727368,
     "user": {
      "displayName": "Jatin Dhawan",
      "photoUrl": "https://lh3.googleusercontent.com/a-/AOh14GhHIdm0QSyuNwAgSzBjb_fDYuT0_abMhNpPw1MjNN8=s64",
      "userId": "00631097267465249303"
     },
     "user_tz": -120
    },
    "id": "krCiGwXTC6IO",
    "outputId": "7b8d7b8e-aaa8-45e4-fa0b-f7576cfd354d"
   },
   "outputs": [
    {
     "data": {
      "text/html": [
       "<html>\n",
       "<head><meta charset=\"utf-8\" /></head>\n",
       "<body>\n",
       "    <div>\n",
       "            <script src=\"https://cdnjs.cloudflare.com/ajax/libs/mathjax/2.7.5/MathJax.js?config=TeX-AMS-MML_SVG\"></script><script type=\"text/javascript\">if (window.MathJax) {MathJax.Hub.Config({SVG: {font: \"STIX-Web\"}});}</script>\n",
       "                <script type=\"text/javascript\">window.PlotlyConfig = {MathJaxConfig: 'local'};</script>\n",
       "        <script src=\"https://cdn.plot.ly/plotly-latest.min.js\"></script>    \n",
       "            <div id=\"fc251618-62b3-4b56-9e92-04607515ddcf\" class=\"plotly-graph-div\" style=\"height:525px; width:100%;\"></div>\n",
       "            <script type=\"text/javascript\">\n",
       "                \n",
       "                    window.PLOTLYENV=window.PLOTLYENV || {};\n",
       "                    \n",
       "                if (document.getElementById(\"fc251618-62b3-4b56-9e92-04607515ddcf\")) {\n",
       "                    Plotly.newPlot(\n",
       "                        'fc251618-62b3-4b56-9e92-04607515ddcf',\n",
       "                        [{\"marker\": {\"color\": \"lightgreen\"}, \"name\": \"Rest\", \"type\": \"bar\", \"x\": [\"Nik L Nip\", \"Boston Baked Beans\", \"Chiclets\", \"Super Bubble\", \"Jawbusters\", \"Root Beer Barrels\", \"Sugar Daddy\", \"One dime\", \"Sugar Babies\", \"Haribo Happy Cola\", \"Caramel Apple Pops\", \"Strawberry bon bons\", \"Sixlets\", \"Ring pop\", \"Chewey Lemonhead Fruit Mix\", \"Red vines\", \"Pixie Sticks\", \"Nestle Smarties\", \"Candy Corn\", \"Charleston Chew\", \"Warheads\", \"Lemonhead\", \"Fun Dip\", \"Now & Later\", \"Dum Dums\", \"Pop Rocks\", \"Laffy Taffy\", \"Werther\\u00d5s Original Caramel\", \"Haribo Twin Snakes\", \"Dots\", \"Runts\", \"Tootsie Roll Juniors\", \"Fruit Chews\", \"Welch\\u00d5s Fruit Snacks\", \"Twizzlers\", \"Tootsie Roll Midgies\", \"Smarties candy\", \"One quarter\", \"Payday\", \"Mike & Ike\", \"Gobstopper\", \"Trolli Sour Bites\", \"Mounds\", \"Tootsie Pop\", \"Whoppers\", \"Tootsie Roll Snack Bars\", \"Almond Joy\", \"Haribo Sour Bears\", \"Air Heads\", \"Sour Patch Tricksters\", \"Lifesavers big ring gummies\", \"Mr Good Bar\", \"Swedish Fish\", \"Milk Duds\", \"Skittles wildberry\", \"Nerds\", \"Hershey\\u00d5s Kisses\", \"Hershey\\u00d5s Milk Chocolate\", \"Baby Ruth\", \"Haribo Gold Bears\", \"Junior Mints\", \"Hershey\\u00d5s Special Dark\", \"Snickers Crisper\", \"Sour Patch Kids\", \"Milky Way Midnight\", \"Hershey\\u00d5s Krackel\", \"Skittles original\", \"Milky Way Simply Caramel\", \"Rolo\", \"Nestle Crunch\", \"M&M\\u00d5s\", \"100 Grand\", \"Starburst\", \"3 Musketeers\", \"Peanut M&Ms\"], \"y\": [22.445341, 23.417824, 24.524988, 27.303865000000002, 28.127439000000003, 29.703691, 32.230995, 32.261086, 33.43755, 34.158958, 34.517681, 34.578990999999995, 34.722, 35.290756, 36.017628, 37.348521999999996, 37.722336, 37.887188, 38.010963000000004, 38.975037, 39.011897999999995, 39.141056, 39.185505, 39.4468, 39.460556, 41.265511, 41.389557, 41.904308, 42.178771999999995, 42.272076, 42.849144, 43.068897, 43.088924, 44.375519, 45.466282, 45.736748, 45.995827, 46.116505, 46.296597, 46.411716, 46.783348, 47.173229, 47.829754, 48.982651000000004, 49.524113, 49.653503, 50.347546, 51.41243, 52.341465, 52.825947, 52.911392000000006, 54.526451, 54.861111, 55.064071999999996, 55.103694999999995, 55.354046, 55.375454000000005, 56.490501, 56.914547, 57.11974, 57.21925, 59.236121999999995, 59.529251, 59.863997999999995, 60.800701000000004, 62.28448100000001, 63.08514, 64.35334, 65.716286, 66.47068, 66.574585, 66.971725, 67.037628, 67.602936, 69.483788]}, {\"marker\": {\"color\": \"red\"}, \"name\": \"Top5\", \"type\": \"bar\", \"x\": [\"Nestle Butterfinger\", \"Peanut butter M&M\\u00d5s\", \"Reese\\u00d5s stuffed with pieces\", \"Milky Way\", \"Reese\\u00d5s pieces\", \"Snickers\", \"Kit Kat\", \"Twix\", \"Reese\\u00d5s Miniatures\", \"Reese\\u00d5s Peanut Butter cup\"], \"y\": [70.735641, 71.46505, 72.887901, 73.099556, 73.43499, 76.67378199999999, 76.7686, 81.642914, 81.86625699999999, 84.18029]}],\n",
       "                        {\"template\": {\"data\": {\"bar\": [{\"error_x\": {\"color\": \"#2a3f5f\"}, \"error_y\": {\"color\": \"#2a3f5f\"}, \"marker\": {\"line\": {\"color\": \"#E5ECF6\", \"width\": 0.5}}, \"type\": \"bar\"}], \"barpolar\": [{\"marker\": {\"line\": {\"color\": \"#E5ECF6\", \"width\": 0.5}}, \"type\": \"barpolar\"}], \"carpet\": [{\"aaxis\": {\"endlinecolor\": \"#2a3f5f\", \"gridcolor\": \"white\", \"linecolor\": \"white\", \"minorgridcolor\": \"white\", \"startlinecolor\": \"#2a3f5f\"}, \"baxis\": {\"endlinecolor\": \"#2a3f5f\", \"gridcolor\": \"white\", \"linecolor\": \"white\", \"minorgridcolor\": \"white\", \"startlinecolor\": \"#2a3f5f\"}, \"type\": \"carpet\"}], \"choropleth\": [{\"colorbar\": {\"outlinewidth\": 0, \"ticks\": \"\"}, \"type\": \"choropleth\"}], \"contour\": [{\"colorbar\": {\"outlinewidth\": 0, \"ticks\": \"\"}, \"colorscale\": [[0.0, \"#0d0887\"], [0.1111111111111111, \"#46039f\"], [0.2222222222222222, \"#7201a8\"], [0.3333333333333333, \"#9c179e\"], [0.4444444444444444, \"#bd3786\"], [0.5555555555555556, \"#d8576b\"], [0.6666666666666666, \"#ed7953\"], [0.7777777777777778, \"#fb9f3a\"], [0.8888888888888888, \"#fdca26\"], [1.0, \"#f0f921\"]], \"type\": \"contour\"}], \"contourcarpet\": [{\"colorbar\": {\"outlinewidth\": 0, \"ticks\": \"\"}, \"type\": \"contourcarpet\"}], \"heatmap\": [{\"colorbar\": {\"outlinewidth\": 0, \"ticks\": \"\"}, \"colorscale\": [[0.0, \"#0d0887\"], [0.1111111111111111, \"#46039f\"], [0.2222222222222222, \"#7201a8\"], [0.3333333333333333, \"#9c179e\"], [0.4444444444444444, \"#bd3786\"], [0.5555555555555556, \"#d8576b\"], [0.6666666666666666, \"#ed7953\"], [0.7777777777777778, \"#fb9f3a\"], [0.8888888888888888, \"#fdca26\"], [1.0, \"#f0f921\"]], \"type\": \"heatmap\"}], \"heatmapgl\": [{\"colorbar\": {\"outlinewidth\": 0, \"ticks\": \"\"}, \"colorscale\": [[0.0, \"#0d0887\"], [0.1111111111111111, \"#46039f\"], [0.2222222222222222, \"#7201a8\"], [0.3333333333333333, \"#9c179e\"], [0.4444444444444444, \"#bd3786\"], [0.5555555555555556, \"#d8576b\"], [0.6666666666666666, \"#ed7953\"], [0.7777777777777778, \"#fb9f3a\"], [0.8888888888888888, \"#fdca26\"], [1.0, \"#f0f921\"]], \"type\": \"heatmapgl\"}], \"histogram\": [{\"marker\": {\"colorbar\": {\"outlinewidth\": 0, \"ticks\": \"\"}}, \"type\": \"histogram\"}], \"histogram2d\": [{\"colorbar\": {\"outlinewidth\": 0, \"ticks\": \"\"}, \"colorscale\": [[0.0, \"#0d0887\"], [0.1111111111111111, \"#46039f\"], [0.2222222222222222, \"#7201a8\"], [0.3333333333333333, \"#9c179e\"], [0.4444444444444444, \"#bd3786\"], [0.5555555555555556, \"#d8576b\"], [0.6666666666666666, \"#ed7953\"], [0.7777777777777778, \"#fb9f3a\"], [0.8888888888888888, \"#fdca26\"], [1.0, \"#f0f921\"]], \"type\": \"histogram2d\"}], \"histogram2dcontour\": [{\"colorbar\": {\"outlinewidth\": 0, \"ticks\": \"\"}, \"colorscale\": [[0.0, \"#0d0887\"], [0.1111111111111111, \"#46039f\"], [0.2222222222222222, \"#7201a8\"], [0.3333333333333333, \"#9c179e\"], [0.4444444444444444, \"#bd3786\"], [0.5555555555555556, \"#d8576b\"], [0.6666666666666666, \"#ed7953\"], [0.7777777777777778, \"#fb9f3a\"], [0.8888888888888888, \"#fdca26\"], [1.0, \"#f0f921\"]], \"type\": \"histogram2dcontour\"}], \"mesh3d\": [{\"colorbar\": {\"outlinewidth\": 0, \"ticks\": \"\"}, \"type\": \"mesh3d\"}], \"parcoords\": [{\"line\": {\"colorbar\": {\"outlinewidth\": 0, \"ticks\": \"\"}}, \"type\": \"parcoords\"}], \"pie\": [{\"automargin\": true, \"type\": \"pie\"}], \"scatter\": [{\"marker\": {\"colorbar\": {\"outlinewidth\": 0, \"ticks\": \"\"}}, \"type\": \"scatter\"}], \"scatter3d\": [{\"line\": {\"colorbar\": {\"outlinewidth\": 0, \"ticks\": \"\"}}, \"marker\": {\"colorbar\": {\"outlinewidth\": 0, \"ticks\": \"\"}}, \"type\": \"scatter3d\"}], \"scattercarpet\": [{\"marker\": {\"colorbar\": {\"outlinewidth\": 0, \"ticks\": \"\"}}, \"type\": \"scattercarpet\"}], \"scattergeo\": [{\"marker\": {\"colorbar\": {\"outlinewidth\": 0, \"ticks\": \"\"}}, \"type\": \"scattergeo\"}], \"scattergl\": [{\"marker\": {\"colorbar\": {\"outlinewidth\": 0, \"ticks\": \"\"}}, \"type\": \"scattergl\"}], \"scattermapbox\": [{\"marker\": {\"colorbar\": {\"outlinewidth\": 0, \"ticks\": \"\"}}, \"type\": \"scattermapbox\"}], \"scatterpolar\": [{\"marker\": {\"colorbar\": {\"outlinewidth\": 0, \"ticks\": \"\"}}, \"type\": \"scatterpolar\"}], \"scatterpolargl\": [{\"marker\": {\"colorbar\": {\"outlinewidth\": 0, \"ticks\": \"\"}}, \"type\": \"scatterpolargl\"}], \"scatterternary\": [{\"marker\": {\"colorbar\": {\"outlinewidth\": 0, \"ticks\": \"\"}}, \"type\": \"scatterternary\"}], \"surface\": [{\"colorbar\": {\"outlinewidth\": 0, \"ticks\": \"\"}, \"colorscale\": [[0.0, \"#0d0887\"], [0.1111111111111111, \"#46039f\"], [0.2222222222222222, \"#7201a8\"], [0.3333333333333333, \"#9c179e\"], [0.4444444444444444, \"#bd3786\"], [0.5555555555555556, \"#d8576b\"], [0.6666666666666666, \"#ed7953\"], [0.7777777777777778, \"#fb9f3a\"], [0.8888888888888888, \"#fdca26\"], [1.0, \"#f0f921\"]], \"type\": \"surface\"}], \"table\": [{\"cells\": {\"fill\": {\"color\": \"#EBF0F8\"}, \"line\": {\"color\": \"white\"}}, \"header\": {\"fill\": {\"color\": \"#C8D4E3\"}, \"line\": {\"color\": \"white\"}}, \"type\": \"table\"}]}, \"layout\": {\"annotationdefaults\": {\"arrowcolor\": \"#2a3f5f\", \"arrowhead\": 0, \"arrowwidth\": 1}, \"coloraxis\": {\"colorbar\": {\"outlinewidth\": 0, \"ticks\": \"\"}}, \"colorscale\": {\"diverging\": [[0, \"#8e0152\"], [0.1, \"#c51b7d\"], [0.2, \"#de77ae\"], [0.3, \"#f1b6da\"], [0.4, \"#fde0ef\"], [0.5, \"#f7f7f7\"], [0.6, \"#e6f5d0\"], [0.7, \"#b8e186\"], [0.8, \"#7fbc41\"], [0.9, \"#4d9221\"], [1, \"#276419\"]], \"sequential\": [[0.0, \"#0d0887\"], [0.1111111111111111, \"#46039f\"], [0.2222222222222222, \"#7201a8\"], [0.3333333333333333, \"#9c179e\"], [0.4444444444444444, \"#bd3786\"], [0.5555555555555556, \"#d8576b\"], [0.6666666666666666, \"#ed7953\"], [0.7777777777777778, \"#fb9f3a\"], [0.8888888888888888, \"#fdca26\"], [1.0, \"#f0f921\"]], \"sequentialminus\": [[0.0, \"#0d0887\"], [0.1111111111111111, \"#46039f\"], [0.2222222222222222, \"#7201a8\"], [0.3333333333333333, \"#9c179e\"], [0.4444444444444444, \"#bd3786\"], [0.5555555555555556, \"#d8576b\"], [0.6666666666666666, \"#ed7953\"], [0.7777777777777778, \"#fb9f3a\"], [0.8888888888888888, \"#fdca26\"], [1.0, \"#f0f921\"]]}, \"colorway\": [\"#636efa\", \"#EF553B\", \"#00cc96\", \"#ab63fa\", \"#FFA15A\", \"#19d3f3\", \"#FF6692\", \"#B6E880\", \"#FF97FF\", \"#FECB52\"], \"font\": {\"color\": \"#2a3f5f\"}, \"geo\": {\"bgcolor\": \"white\", \"lakecolor\": \"white\", \"landcolor\": \"#E5ECF6\", \"showlakes\": true, \"showland\": true, \"subunitcolor\": \"white\"}, \"hoverlabel\": {\"align\": \"left\"}, \"hovermode\": \"closest\", \"mapbox\": {\"style\": \"light\"}, \"paper_bgcolor\": \"white\", \"plot_bgcolor\": \"#E5ECF6\", \"polar\": {\"angularaxis\": {\"gridcolor\": \"white\", \"linecolor\": \"white\", \"ticks\": \"\"}, \"bgcolor\": \"#E5ECF6\", \"radialaxis\": {\"gridcolor\": \"white\", \"linecolor\": \"white\", \"ticks\": \"\"}}, \"scene\": {\"xaxis\": {\"backgroundcolor\": \"#E5ECF6\", \"gridcolor\": \"white\", \"gridwidth\": 2, \"linecolor\": \"white\", \"showbackground\": true, \"ticks\": \"\", \"zerolinecolor\": \"white\"}, \"yaxis\": {\"backgroundcolor\": \"#E5ECF6\", \"gridcolor\": \"white\", \"gridwidth\": 2, \"linecolor\": \"white\", \"showbackground\": true, \"ticks\": \"\", \"zerolinecolor\": \"white\"}, \"zaxis\": {\"backgroundcolor\": \"#E5ECF6\", \"gridcolor\": \"white\", \"gridwidth\": 2, \"linecolor\": \"white\", \"showbackground\": true, \"ticks\": \"\", \"zerolinecolor\": \"white\"}}, \"shapedefaults\": {\"line\": {\"color\": \"#2a3f5f\"}}, \"ternary\": {\"aaxis\": {\"gridcolor\": \"white\", \"linecolor\": \"white\", \"ticks\": \"\"}, \"baxis\": {\"gridcolor\": \"white\", \"linecolor\": \"white\", \"ticks\": \"\"}, \"bgcolor\": \"#E5ECF6\", \"caxis\": {\"gridcolor\": \"white\", \"linecolor\": \"white\", \"ticks\": \"\"}}, \"title\": {\"x\": 0.05}, \"xaxis\": {\"automargin\": true, \"gridcolor\": \"white\", \"linecolor\": \"white\", \"ticks\": \"\", \"title\": {\"standoff\": 15}, \"zerolinecolor\": \"white\", \"zerolinewidth\": 2}, \"yaxis\": {\"automargin\": true, \"gridcolor\": \"white\", \"linecolor\": \"white\", \"ticks\": \"\", \"title\": {\"standoff\": 15}, \"zerolinecolor\": \"white\", \"zerolinewidth\": 2}}}, \"title\": {\"text\": \"Least Used Feature\"}},\n",
       "                        {\"responsive\": true}\n",
       "                    ).then(function(){\n",
       "                            \n",
       "var gd = document.getElementById('fc251618-62b3-4b56-9e92-04607515ddcf');\n",
       "var x = new MutationObserver(function (mutations, observer) {{\n",
       "        var display = window.getComputedStyle(gd).display;\n",
       "        if (!display || display === 'none') {{\n",
       "            console.log([gd, 'removed!']);\n",
       "            Plotly.purge(gd);\n",
       "            observer.disconnect();\n",
       "        }}\n",
       "}});\n",
       "\n",
       "// Listen for the removal of the full notebook cells\n",
       "var notebookContainer = gd.closest('#notebook-container');\n",
       "if (notebookContainer) {{\n",
       "    x.observe(notebookContainer, {childList: true});\n",
       "}}\n",
       "\n",
       "// Listen for the clearing of the current output cell\n",
       "var outputEl = gd.closest('.output');\n",
       "if (outputEl) {{\n",
       "    x.observe(outputEl, {childList: true});\n",
       "}}\n",
       "\n",
       "                        })\n",
       "                };\n",
       "                \n",
       "            </script>\n",
       "        </div>\n",
       "</body>\n",
       "</html>"
      ]
     },
     "metadata": {
      "tags": []
     },
     "output_type": "display_data"
    }
   ],
   "source": [
    "fig = go.Figure(data=bars)\n",
    "fig.update_layout(title_text='')"
   ]
  },
  {
   "cell_type": "code",
   "execution_count": 53,
   "metadata": {
    "colab": {
     "base_uri": "https://localhost:8080/",
     "height": 834,
     "referenced_widgets": [
      "ef9343aa63e14a32b4d206f4d923fd49"
     ]
    },
    "colab_type": "code",
    "executionInfo": {
     "elapsed": 986,
     "status": "ok",
     "timestamp": 1593181799926,
     "user": {
      "displayName": "Jatin Dhawan",
      "photoUrl": "https://lh3.googleusercontent.com/a-/AOh14GhHIdm0QSyuNwAgSzBjb_fDYuT0_abMhNpPw1MjNN8=s64",
      "userId": "00631097267465249303"
     },
     "user_tz": -120
    },
    "id": "NHwLUAiC-qyY",
    "outputId": "b8d2bde3-bf06-4c3e-d1c1-8a53f7ba2347"
   },
   "outputs": [
    {
     "data": {
      "text/plain": [
       "[Bar({\n",
       "     'marker': {'color': 'red'},\n",
       "     'name': 'Rest',\n",
       "     'x': array(['100 Grand', '3 Musketeers', 'One dime', 'One quarter', 'Air Heads',\n",
       "                 'Almond Joy', 'Baby Ruth', 'Boston Baked Beans', 'Candy Corn',\n",
       "                 'Caramel Apple Pops', 'Charleston Chew', 'Chewey Lemonhead Fruit Mix',\n",
       "                 'Chiclets', 'Dots', 'Dum Dums', 'Fruit Chews', 'Fun Dip', 'Gobstopper',\n",
       "                 'Haribo Gold Bears', 'Haribo Happy Cola', 'Haribo Sour Bears',\n",
       "                 'Haribo Twin Snakes', 'HersheyÕs Kisses', 'HersheyÕs Krackel',\n",
       "                 'HersheyÕs Milk Chocolate', 'HersheyÕs Special Dark', 'Jawbusters',\n",
       "                 'Junior Mints', 'Laffy Taffy', 'Lemonhead',\n",
       "                 'Lifesavers big ring gummies', 'M&MÕs', 'Mike & Ike', 'Milk Duds',\n",
       "                 'Milky Way Midnight', 'Milky Way Simply Caramel', 'Mounds',\n",
       "                 'Mr Good Bar', 'Nerds', 'Nestle Crunch', 'Nik L Nip', 'Now & Later',\n",
       "                 'Payday', 'Peanut M&Ms', 'Pixie Sticks', 'Pop Rocks', 'Red vines',\n",
       "                 'Ring pop', 'Rolo', 'Root Beer Barrels', 'Runts', 'Sixlets',\n",
       "                 'Skittles original', 'Skittles wildberry', 'Nestle Smarties',\n",
       "                 'Smarties candy', 'Snickers Crisper', 'Sour Patch Kids',\n",
       "                 'Sour Patch Tricksters', 'Starburst', 'Strawberry bon bons',\n",
       "                 'Sugar Babies', 'Sugar Daddy', 'Super Bubble', 'Swedish Fish',\n",
       "                 'Tootsie Pop', 'Tootsie Roll Juniors', 'Tootsie Roll Midgies',\n",
       "                 'Tootsie Roll Snack Bars', 'Trolli Sour Bites', 'Twizzlers', 'Warheads',\n",
       "                 'WelchÕs Fruit Snacks', 'WertherÕs Original Caramel', 'Whoppers'],\n",
       "                dtype=object),\n",
       "     'y': array([66.971725, 67.602936, 32.261086, 46.116505, 52.341465, 50.347546,\n",
       "                 56.914547, 23.417824, 38.010963, 34.517681, 38.975037, 36.017628,\n",
       "                 24.524988, 42.272076, 39.460556, 43.088924, 39.185505, 46.783348,\n",
       "                 57.11974 , 34.158958, 51.41243 , 42.178772, 55.375454, 62.284481,\n",
       "                 56.490501, 59.236122, 28.127439, 57.21925 , 41.389557, 39.141056,\n",
       "                 52.911392, 66.574585, 46.411716, 55.064072, 60.800701, 64.35334 ,\n",
       "                 47.829754, 54.526451, 55.354046, 66.47068 , 22.445341, 39.4468  ,\n",
       "                 46.296597, 69.483788, 37.722336, 41.265511, 37.348522, 35.290756,\n",
       "                 65.716286, 29.703691, 42.849144, 34.722   , 63.08514 , 55.103695,\n",
       "                 37.887188, 45.995827, 59.529251, 59.863998, 52.825947, 67.037628,\n",
       "                 34.578991, 33.43755 , 32.230995, 27.303865, 54.861111, 48.982651,\n",
       "                 43.068897, 45.736748, 49.653503, 47.173229, 45.466282, 39.011898,\n",
       "                 44.375519, 41.904308, 49.524113])\n",
       " }), Bar({\n",
       "     'marker': {'color': 'lightgreen'},\n",
       "     'name': 'Top5',\n",
       "     'x': array(['Kit Kat', 'Peanut butter M&MÕs', 'Milky Way', 'Nestle Butterfinger',\n",
       "                 'ReeseÕs Miniatures', 'ReeseÕs Peanut Butter cup', 'ReeseÕs pieces',\n",
       "                 'ReeseÕs stuffed with pieces', 'Snickers', 'Twix'], dtype=object),\n",
       "     'y': array([76.7686  , 71.46505 , 73.099556, 70.735641, 81.866257, 84.18029 ,\n",
       "                 73.43499 , 72.887901, 76.673782, 81.642914])\n",
       " })]"
      ]
     },
     "execution_count": 53,
     "metadata": {
      "tags": []
     },
     "output_type": "execute_result"
    },
    {
     "data": {
      "application/vnd.jupyter.widget-view+json": {
       "model_id": "ef9343aa63e14a32b4d206f4d923fd49",
       "version_major": 2,
       "version_minor": 0
      },
      "text/plain": [
       "FigureWidget({\n",
       "    'data': [{'marker': {'color': 'red'},\n",
       "              'name': 'Rest',\n",
       "              'type': '…"
      ]
     },
     "metadata": {
      "tags": []
     },
     "output_type": "display_data"
    }
   ],
   "source": [
    "bars = []\n",
    "for label, label_df in df.groupby('label'):\n",
    "    bars.append(go.Bar(x=label_df.x,\n",
    "                       y=label_df.y,\n",
    "                       name=label,\n",
    "                       marker={'color': colors[label]}))\n",
    "\n",
    "bars\n",
    "d=go.FigureWidget(data=bars)\n",
    "da"
   ]
  },
  {
   "cell_type": "code",
   "execution_count": null,
   "metadata": {
    "colab": {
     "base_uri": "https://localhost:8080/",
     "height": 71
    },
    "colab_type": "code",
    "executionInfo": {
     "elapsed": 600,
     "status": "ok",
     "timestamp": 1549804448408,
     "user": {
      "displayName": "Jatin Dhawan",
      "photoUrl": "https://lh6.googleusercontent.com/-HiZ_NWCK01I/AAAAAAAAAAI/AAAAAAAAAa0/d2GRx9bg7NY/s64/photo.jpg",
      "userId": "00631097267465249303"
     },
     "user_tz": -60
    },
    "id": "tCGJlX3W5foo",
    "outputId": "ab2195dd-ea93-41fd-96eb-a9c810cd763f"
   },
   "outputs": [
    {
     "name": "stderr",
     "output_type": "stream",
     "text": [
      "/usr/local/lib/python3.6/dist-packages/sklearn/preprocessing/data.py:323: DataConversionWarning: Data with input dtype int64, float64 were all converted to float64 by MinMaxScaler.\n",
      "  return self.partial_fit(X, y)\n"
     ]
    }
   ],
   "source": [
    "from sklearn.preprocessing import MinMaxScaler\n",
    "scaler = MinMaxScaler(feature_range= (0,1))\n",
    "x_train = scaler.fit_transform(train_df)\n",
    "x_test = scaler.transform(test_df)"
   ]
  },
  {
   "cell_type": "code",
   "execution_count": null,
   "metadata": {
    "colab": {},
    "colab_type": "code",
    "id": "qgfEK0D-6YXi"
   },
   "outputs": [],
   "source": [
    "x_train = pd.DataFrame(x_train, columns = train_df.columns.values)\n",
    "x_test = pd.DataFrame(x_test,  columns = test_df.columns.values)"
   ]
  },
  {
   "cell_type": "code",
   "execution_count": null,
   "metadata": {
    "colab": {},
    "colab_type": "code",
    "id": "Xgw9wrQsPQiv"
   },
   "outputs": [],
   "source": [
    "y_test = x_test['total_earnings']\n",
    "x_test = x_test.drop(['total_earnings'], axis = 1) \n",
    "y_train = x_train['total_earnings']\n",
    "x_train = x_train.drop(['total_earnings'], axis = 1) "
   ]
  },
  {
   "cell_type": "code",
   "execution_count": null,
   "metadata": {
    "colab": {},
    "colab_type": "code",
    "id": "_e7iraVCLblx"
   },
   "outputs": [],
   "source": [
    "y_train.colums = ['total_earnings']\n",
    "y_test.colums = ['total_earnings']\n"
   ]
  },
  {
   "cell_type": "code",
   "execution_count": null,
   "metadata": {
    "colab": {
     "base_uri": "https://localhost:8080/",
     "height": 1751
    },
    "colab_type": "code",
    "executionInfo": {
     "elapsed": 3488,
     "status": "ok",
     "timestamp": 1549804479396,
     "user": {
      "displayName": "Jatin Dhawan",
      "photoUrl": "https://lh6.googleusercontent.com/-HiZ_NWCK01I/AAAAAAAAAAI/AAAAAAAAAa0/d2GRx9bg7NY/s64/photo.jpg",
      "userId": "00631097267465249303"
     },
     "user_tz": -60
    },
    "id": "bYcq3p0P8Baq",
    "outputId": "182d67b9-a1e8-4369-a169-75727aa7d41e"
   },
   "outputs": [
    {
     "name": "stdout",
     "output_type": "stream",
     "text": [
      "Epoch 1/50\n",
      " - 0s - loss: 0.0280\n",
      "Epoch 2/50\n",
      " - 0s - loss: 0.0079\n",
      "Epoch 3/50\n",
      " - 0s - loss: 0.0023\n",
      "Epoch 4/50\n",
      " - 0s - loss: 0.0011\n",
      "Epoch 5/50\n",
      " - 0s - loss: 7.9069e-04\n",
      "Epoch 6/50\n",
      " - 0s - loss: 6.0636e-04\n",
      "Epoch 7/50\n",
      " - 0s - loss: 4.7981e-04\n",
      "Epoch 8/50\n",
      " - 0s - loss: 3.8922e-04\n",
      "Epoch 9/50\n",
      " - 0s - loss: 3.6085e-04\n",
      "Epoch 10/50\n",
      " - 0s - loss: 2.8620e-04\n",
      "Epoch 11/50\n",
      " - 0s - loss: 2.5428e-04\n",
      "Epoch 12/50\n",
      " - 0s - loss: 2.4018e-04\n",
      "Epoch 13/50\n",
      " - 0s - loss: 2.1087e-04\n",
      "Epoch 14/50\n",
      " - 0s - loss: 1.9842e-04\n",
      "Epoch 15/50\n",
      " - 0s - loss: 1.6425e-04\n",
      "Epoch 16/50\n",
      " - 0s - loss: 1.8609e-04\n",
      "Epoch 17/50\n",
      " - 0s - loss: 1.4690e-04\n",
      "Epoch 18/50\n",
      " - 0s - loss: 1.3923e-04\n",
      "Epoch 19/50\n",
      " - 0s - loss: 1.4142e-04\n",
      "Epoch 20/50\n",
      " - 0s - loss: 1.2143e-04\n",
      "Epoch 21/50\n",
      " - 0s - loss: 1.1471e-04\n",
      "Epoch 22/50\n",
      " - 0s - loss: 1.1878e-04\n",
      "Epoch 23/50\n",
      " - 0s - loss: 1.0326e-04\n",
      "Epoch 24/50\n",
      " - 0s - loss: 9.6537e-05\n",
      "Epoch 25/50\n",
      " - 0s - loss: 8.3178e-05\n",
      "Epoch 26/50\n",
      " - 0s - loss: 8.8936e-05\n",
      "Epoch 27/50\n",
      " - 0s - loss: 7.8421e-05\n",
      "Epoch 28/50\n",
      " - 0s - loss: 9.3303e-05\n",
      "Epoch 29/50\n",
      " - 0s - loss: 8.8377e-05\n",
      "Epoch 30/50\n",
      " - 0s - loss: 9.3166e-05\n",
      "Epoch 31/50\n",
      " - 0s - loss: 8.0172e-05\n",
      "Epoch 32/50\n",
      " - 0s - loss: 7.0080e-05\n",
      "Epoch 33/50\n",
      " - 0s - loss: 8.7205e-05\n",
      "Epoch 34/50\n",
      " - 0s - loss: 6.4246e-05\n",
      "Epoch 35/50\n",
      " - 0s - loss: 6.7767e-05\n",
      "Epoch 36/50\n",
      " - 0s - loss: 5.6430e-05\n",
      "Epoch 37/50\n",
      " - 0s - loss: 5.5791e-05\n",
      "Epoch 38/50\n",
      " - 0s - loss: 5.0616e-05\n",
      "Epoch 39/50\n",
      " - 0s - loss: 5.3882e-05\n",
      "Epoch 40/50\n",
      " - 0s - loss: 8.7746e-05\n",
      "Epoch 41/50\n",
      " - 0s - loss: 6.3134e-05\n",
      "Epoch 42/50\n",
      " - 0s - loss: 8.7813e-05\n",
      "Epoch 43/50\n",
      " - 0s - loss: 5.7960e-05\n",
      "Epoch 44/50\n",
      " - 0s - loss: 4.2916e-05\n",
      "Epoch 45/50\n",
      " - 0s - loss: 5.3714e-05\n",
      "Epoch 46/50\n",
      " - 0s - loss: 4.8679e-05\n",
      "Epoch 47/50\n",
      " - 0s - loss: 4.2414e-05\n",
      "Epoch 48/50\n",
      " - 0s - loss: 5.0930e-05\n",
      "Epoch 49/50\n",
      " - 0s - loss: 5.5429e-05\n",
      "Epoch 50/50\n",
      " - 0s - loss: 5.8914e-05\n",
      "the mean squared error is: {}2954.5047283172607\n",
      "the mean squared error is: 0.00016582778887823225\n"
     ]
    }
   ],
   "source": [
    "from keras.models import Sequential\n",
    "from keras.layers import Dense, Dropout\n",
    "import time\n",
    "\n",
    "tic = time.time()\n",
    "model = Sequential()\n",
    "model.add(Dense(50, input_dim = x_train.shape[1], activation = 'relu'))\n",
    "model.add(Dense(100,activation = 'relu'))\n",
    "model.add(Dense(50, activation = 'relu'))\n",
    "model.add(Dense(1, activation = 'sigmoid'))\n",
    "model.compile(loss='mean_squared_error', optimizer='adam')\n",
    "model.fit(x_train, y_train, epochs = 50, shuffle = True, verbose =2)\n",
    "error_rate = model.evaluate (x_test, y_test, verbose = 0)\n",
    "toc = time.time()\n",
    "\n",
    "print(\"the mean squared error is: {}\" + str(1000*(toc-tic)))\n",
    "print(\"the mean squared error is: {}\".format(error_rate))"
   ]
  },
  {
   "cell_type": "code",
   "execution_count": null,
   "metadata": {
    "colab": {},
    "colab_type": "code",
    "id": "wi-HOgQ5HcNB"
   },
   "outputs": [],
   "source": []
  },
  {
   "cell_type": "code",
   "execution_count": null,
   "metadata": {
    "colab": {},
    "colab_type": "code",
    "id": "qgM_pjoBC32L"
   },
   "outputs": [],
   "source": []
  }
 ],
 "metadata": {
  "colab": {
   "name": "Candy_ranking.ipynb",
   "provenance": []
  },
  "kernelspec": {
   "display_name": "Python 3",
   "language": "python",
   "name": "python3"
  },
  "language_info": {
   "codemirror_mode": {
    "name": "ipython",
    "version": 3
   },
   "file_extension": ".py",
   "mimetype": "text/x-python",
   "name": "python",
   "nbconvert_exporter": "python",
   "pygments_lexer": "ipython3",
   "version": "3.7.6"
  },
  "widgets": {
   "application/vnd.jupyter.widget-state+json": {
    "ef9343aa63e14a32b4d206f4d923fd49": {
     "model_module": "plotlywidget",
     "model_name": "FigureModel",
     "state": {
      "_config": {
       "plotlyServerURL": "https://plot.ly"
      },
      "_data": [
       {
        "marker": {
         "color": "red"
        },
        "name": "Rest",
        "type": "bar",
        "uid": "90e94c79-ce3e-4d9c-826a-b8c5c7196cad",
        "x": [
         "100 Grand",
         "3 Musketeers",
         "One dime",
         "One quarter",
         "Air Heads",
         "Almond Joy",
         "Baby Ruth",
         "Boston Baked Beans",
         "Candy Corn",
         "Caramel Apple Pops",
         "Charleston Chew",
         "Chewey Lemonhead Fruit Mix",
         "Chiclets",
         "Dots",
         "Dum Dums",
         "Fruit Chews",
         "Fun Dip",
         "Gobstopper",
         "Haribo Gold Bears",
         "Haribo Happy Cola",
         "Haribo Sour Bears",
         "Haribo Twin Snakes",
         "HersheyÕs Kisses",
         "HersheyÕs Krackel",
         "HersheyÕs Milk Chocolate",
         "HersheyÕs Special Dark",
         "Jawbusters",
         "Junior Mints",
         "Laffy Taffy",
         "Lemonhead",
         "Lifesavers big ring gummies",
         "M&MÕs",
         "Mike & Ike",
         "Milk Duds",
         "Milky Way Midnight",
         "Milky Way Simply Caramel",
         "Mounds",
         "Mr Good Bar",
         "Nerds",
         "Nestle Crunch",
         "Nik L Nip",
         "Now & Later",
         "Payday",
         "Peanut M&Ms",
         "Pixie Sticks",
         "Pop Rocks",
         "Red vines",
         "Ring pop",
         "Rolo",
         "Root Beer Barrels",
         "Runts",
         "Sixlets",
         "Skittles original",
         "Skittles wildberry",
         "Nestle Smarties",
         "Smarties candy",
         "Snickers Crisper",
         "Sour Patch Kids",
         "Sour Patch Tricksters",
         "Starburst",
         "Strawberry bon bons",
         "Sugar Babies",
         "Sugar Daddy",
         "Super Bubble",
         "Swedish Fish",
         "Tootsie Pop",
         "Tootsie Roll Juniors",
         "Tootsie Roll Midgies",
         "Tootsie Roll Snack Bars",
         "Trolli Sour Bites",
         "Twizzlers",
         "Warheads",
         "WelchÕs Fruit Snacks",
         "WertherÕs Original Caramel",
         "Whoppers"
        ],
        "y": {
         "dtype": "float64",
         "shape": [
          75
         ]
        }
       },
       {
        "marker": {
         "color": "lightgreen"
        },
        "name": "Top5",
        "type": "bar",
        "uid": "298e42f2-d8c5-4ee9-b7fb-c7c3bb15c0de",
        "x": [
         "Kit Kat",
         "Peanut butter M&MÕs",
         "Milky Way",
         "Nestle Butterfinger",
         "ReeseÕs Miniatures",
         "ReeseÕs Peanut Butter cup",
         "ReeseÕs pieces",
         "ReeseÕs stuffed with pieces",
         "Snickers",
         "Twix"
        ],
        "y": {
         "dtype": "float64",
         "shape": [
          10
         ]
        }
       }
      ],
      "_dom_classes": [],
      "_js2py_layoutDelta": {},
      "_js2py_pointsCallback": {},
      "_js2py_relayout": {},
      "_js2py_restyle": {},
      "_js2py_traceDeltas": {},
      "_js2py_update": {},
      "_last_layout_edit_id": 0,
      "_last_trace_edit_id": 0,
      "_layout": {},
      "_model_module": "plotlywidget",
      "_model_module_version": "^1.4.0",
      "_model_name": "FigureModel",
      "_py2js_addTraces": {},
      "_py2js_animate": {},
      "_py2js_deleteTraces": {},
      "_py2js_moveTraces": {},
      "_py2js_relayout": null,
      "_py2js_removeLayoutProps": {},
      "_py2js_removeTraceProps": {},
      "_py2js_restyle": {},
      "_py2js_update": {},
      "_view_count": 0,
      "_view_module": "plotlywidget",
      "_view_module_version": "^1.4.0",
      "_view_name": "FigureView"
     }
    }
   }
  }
 },
 "nbformat": 4,
 "nbformat_minor": 1
}
